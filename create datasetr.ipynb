{
 "cells": [
  {
   "cell_type": "code",
   "execution_count": 39,
   "metadata": {},
   "outputs": [],
   "source": [
    "import shutil, os\n",
    "import fnmatch\n"
   ]
  },
  {
   "cell_type": "code",
   "execution_count": 40,
   "metadata": {},
   "outputs": [],
   "source": [
    "srs = r\"C:\\Users\\123\\Untitled Folder\\ImageFolder\\chest_xray2\\train\\pneumonia\"\n",
    "des = r\"ImageFolder\\chest_xray\\train\\bacteria\"\n",
    "#shutil.copy(srs,des)"
   ]
  },
  {
   "cell_type": "code",
   "execution_count": 41,
   "metadata": {},
   "outputs": [],
   "source": [
    "for folders, subfolders, filenames in os.walk(srs):\n",
    "    for file in filenames:\n",
    "        #print(file)\n",
    "        if fnmatch.fnmatch(file, 'person*_bacteria_*.jpeg'):\n",
    "        #if file.with('1.jpeg'):\n",
    "            #print(file)\n",
    "            srs_folder=os.path.join(folders, file)\n",
    "            #print(srs_folder)\n",
    "            shutil.copy(srs_folder,des)\n",
    "            \n",
    "\n",
    "        "
   ]
  },
  {
   "cell_type": "code",
   "execution_count": 44,
   "metadata": {},
   "outputs": [],
   "source": [
    "des2 = r\"ImageFolder\\chest_xray\\train\\virus\"\n",
    "for folders, subfolders, filenames in os.walk(srs):\n",
    "    for file in filenames:\n",
    "        #print(file)\n",
    "        if fnmatch.fnmatch(file, 'person*_virus_*.jpeg'):\n",
    "        #if file.with('1.jpeg'):\n",
    "            #print(file)\n",
    "            srs_folder=os.path.join(folders, file)\n",
    "            #print(srs_folder)\n",
    "            shutil.copy(srs_folder,des2)"
   ]
  },
  {
   "cell_type": "code",
   "execution_count": null,
   "metadata": {},
   "outputs": [],
   "source": []
  }
 ],
 "metadata": {
  "kernelspec": {
   "display_name": "Python 3",
   "language": "python",
   "name": "python3"
  },
  "language_info": {
   "codemirror_mode": {
    "name": "ipython",
    "version": 3
   },
   "file_extension": ".py",
   "mimetype": "text/x-python",
   "name": "python",
   "nbconvert_exporter": "python",
   "pygments_lexer": "ipython3",
   "version": "3.7.6"
  }
 },
 "nbformat": 4,
 "nbformat_minor": 4
}
